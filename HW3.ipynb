{
 "cells": [
  {
   "cell_type": "markdown",
   "metadata": {},
   "source": [
    "## Домашнее задание №3"
   ]
  },
  {
   "cell_type": "markdown",
   "metadata": {},
   "source": [
    "*Составлено с использованием материалов курса лекций «Программирование на языке Python для сбора и анализа данных» Щурова И.В., НИУ ВШЭ*"
   ]
  },
  {
   "cell_type": "markdown",
   "metadata": {},
   "source": [
    "***В сумме за домашнюю работу вы можете получить 18 баллов.*** <br> \n",
    "***Итоговая оценка будет равна доле полученных баллов от общей суммы x10.*** \n",
    "<p>\n",
    "<font size='3' color=\"B3000C\">Ноутбук (файл в расширением .ipynb) выложите на свой git и пришлите ссылку на почту python.in.miigaik@gmail.com.<br> В теме письма укажите номер домашней работы и номер группы: HW... , Group... .</font>\n",
    "</p>"
   ]
  },
  {
   "cell_type": "markdown",
   "metadata": {},
   "source": [
    "### Задача 1 Сортировка (1 балл)\n",
    "На вход поступает список из вещественных чисел. Отсортировать его по возрастанию, элементы в отсортированном списке должны иметь 3 знака после запятой.\n",
    "<br> **Входные данные**: [1.0,-2.0,3.0].<br> **Выходные данные**: [-2.000,1.000,3.000]"
   ]
  },
  {
   "cell_type": "code",
   "execution_count": 13,
   "metadata": {},
   "outputs": [
    {
     "name": "stdout",
     "output_type": "stream",
     "text": [
      "-2.000 1.000 3.000 "
     ]
    }
   ],
   "source": [
    "#решение\n",
    "s=[1.0,-2.0,3.0]\n",
    "s=sorted(s)\n",
    "i=int()\n",
    "for i in range(0,len(s)):\n",
    "    print(\"%.3f\" % s[i],end=\" \")"
   ]
  },
  {
   "cell_type": "markdown",
   "metadata": {},
   "source": [
    "### Задача 2 Средний символ (1 балл)\n",
    "На вход поступает строка. Ваша задача - вернуть средний символ строки. Если длина строки нечетна, верните средний символ. Если длина строки четная, верните средние 2 символа.\n",
    "<br> **Входные данные** : \"test\". **Выходные данные**: \"es\"\n",
    "<br> **Входные данные** : \"sunsets\". **Выходные данные**: \"s\""
   ]
  },
  {
   "cell_type": "code",
   "execution_count": 55,
   "metadata": {},
   "outputs": [
    {
     "name": "stdout",
     "output_type": "stream",
     "text": [
      "ghg\n",
      "h\n"
     ]
    }
   ],
   "source": [
    "#решение\n",
    "s=input()\n",
    "i=int()\n",
    "m=int(len(s))\n",
    "n=int(m/2)\n",
    "s.split()\n",
    "if m%2==0:\n",
    "    print(s[n-1],s[n],sep=\"\")\n",
    "else:\n",
    "    print(s[n])\n",
    "\n",
    "    "
   ]
  },
  {
   "cell_type": "markdown",
   "metadata": {},
   "source": [
    "### Задача 3 Еще одна задача со строками (1 балл)\n",
    "На вход подается предложение из слов. Ваша задача вернуть тоже самое предложение, в котором все слова длины больше 5 записаны в обратном порядке.\n",
    "<br> **Входные данные** : \"Hey fellow warriors\". **Выходные данные**: \"Hey wollef sroirraw\" \n",
    "<br> **Входные данные** : \"This is a test\". **Выходные данные**: \"This is a test\""
   ]
  },
  {
   "cell_type": "code",
   "execution_count": 3,
   "metadata": {},
   "outputs": [
    {
     "name": "stdout",
     "output_type": "stream",
     "text": [
      "Hey fellow warriors\n",
      "Hey wollef sroirraw\n"
     ]
    }
   ],
   "source": [
    "#решение\n",
    "s=input()\n",
    "s=s.split(\" \")\n",
    "i=int(0)\n",
    "j=int(0)\n",
    "m=int(0)\n",
    "c=str(\"\")\n",
    "b=str(\"\")\n",
    "for i in range(0,len(s)):\n",
    "    if len(s[i])>5:\n",
    "        a=s[i]\n",
    "        for j in range(0,len(a)):\n",
    "            b=b+a[len(a)-1-j]\n",
    "        if len(c)!=0:\n",
    "            c=c+\" \"\n",
    "        c=c+b\n",
    "        b=\"\"\n",
    "    else:\n",
    "        if len(c)!=0:\n",
    "            c=c+\" \"\n",
    "        c=c+s[i]\n",
    "print(c)\n",
    "            \n",
    "      "
   ]
  },
  {
   "cell_type": "markdown",
   "metadata": {},
   "source": [
    "### Задача 4 ДНК (1 балл)\n",
    "На вход подается строка \"ДНК\". Ваша цель построить комплиментарную цепь к этой ДНК. Материал для [справки](https://bit.ly/2gyHYCV), как меняются отдельные азотистые основания.\n",
    "<br> **Входные данные**: \"ATTGC\". **Выходные данные**:\"TAACG\"\n",
    "<br> **Входные данные**: \"GTAT\". **Выходные данные**:\"CATA\""
   ]
  },
  {
   "cell_type": "code",
   "execution_count": 90,
   "metadata": {},
   "outputs": [
    {
     "name": "stdout",
     "output_type": "stream",
     "text": [
      "ATTGC\n",
      "TAACG\n"
     ]
    }
   ],
   "source": [
    "#решение\n",
    "s=str(input())\n",
    "i=int()\n",
    "a=[]\n",
    "for i in range(0,len(s)):\n",
    "    if s[i]==\"A\":\n",
    "        a.append(\"T\")\n",
    "    if s[i]==\"T\":\n",
    "        a.append(\"A\")\n",
    "    if s[i]==\"G\":\n",
    "        a.append(\"C\")\n",
    "    if s[i]==\"C\":\n",
    "        a.append(\"G\")\n",
    "a=\"\".join(a)\n",
    "print(a)"
   ]
  },
  {
   "cell_type": "markdown",
   "metadata": {},
   "source": [
    "### Задача 5 Танцевальная музыка (1 балл)\n",
    "В клубной музыке принято использовать различные звуковые эффекты. Ваша цель очистить строку от музыкального эффекта \"BOOM\".\n",
    "<br> **Входные данные**: \"BOOMWEBOOMAREBOOMBOOMTHEBOOMCHAMPIONSBOOMMYBOOMFRIENDBOOM\". **Выходные данные**:\"WE ARE THE CHAMPIONS MY FRIEND\""
   ]
  },
  {
   "cell_type": "code",
   "execution_count": 26,
   "metadata": {},
   "outputs": [
    {
     "name": "stdout",
     "output_type": "stream",
     "text": [
      "BOOMWEBOOMAREBOOMBOOMTHEBOOMCHAMPIONSBOOMMYBOOMFRIENDBOOM\n",
      "WE ARE  THE CHAMPIONS MY FRIEND\n"
     ]
    }
   ],
   "source": [
    "#решение\n",
    "s=input()\n",
    "i=int(0)\n",
    "b=str()\n",
    "while i != (len(s)-4):\n",
    "    if s[i]==\"B\" and s[i+1]==\"O\"and s[i+2]==\"O\"and s[i+3]==\"M\":\n",
    "        if i!=0 or (s[i-4]!=\"B\" and s[i-3]!=\"O\"and s[i-2]!=\"O\"and s[i-1]!=\"M\") :\n",
    "            b=b+\" \"\n",
    "        i=i+4\n",
    "    else:\n",
    "        b=b+s[i]\n",
    "        i=i+1\n",
    "if s[-4]!=\"B\" and s[-3]!=\"O\"and s[-2]!=\"O\"and s[-1]!=\"M\":\n",
    "    b=b+s[-4]+s[-3]+s[-2]+s[-1]\n",
    "\n",
    "print(b)"
   ]
  },
  {
   "cell_type": "markdown",
   "metadata": {},
   "source": [
    "### Задача 6 Если бы мне платили каждый раз (3 балла)\n",
    "Вам дан текст. Необходимо вычислить сколько раз встречается каждое слово в тексте, сколько различных слов было в тексте и сколько всего было слов. Затем замените количество появлений слова в тексте, на его частоту (количество встреч / общее количество слов в тексте). Найдите top 10 самых часто встречающихся слов длины > 3 и выпишите их.\n",
    "\n",
    "** Ввод ** <br>\n",
    "['my', 'world', 'my', 'rules']<br>\n",
    "** Вывод**<br>\n",
    "{'my':2, 'world':1, 'rules':1}<br>\n",
    "Различных слов - 3, всего слов - 4.<br>\n",
    "{'my':0.5, 'world':0.25, 'rules':0.25}<br> "
   ]
  },
  {
   "cell_type": "code",
   "execution_count": 19,
   "metadata": {
    "collapsed": true
   },
   "outputs": [],
   "source": [
    "text = '''\n",
    "Если б мне платили каждый раз\n",
    "Каждый раз, когда я думаю о тебе\n",
    "Я бы бомжевала возле трасс\n",
    "Я бы стала самой бедной из людей\n",
    "Если б мне платили каждый раз\n",
    "Каждый раз, когда я думаю о тебе\n",
    "Я бы бомжевала возле трасс\n",
    "Я бы стала самой бедной из людей\n",
    "\n",
    "«Где ты, когда ты не онлайн, когда я жду тебя в сети?\n",
    "В какие ссылки перейти, чтоб просто оказаться там?\n",
    "О чём ты думаешь сейчас? Давай среди берёз густых\n",
    "Читать любимый твой рассказ — страничку я, страничку ты\n",
    "Или в гости и просто чаю, и сердцами WhatsApp закидан»\n",
    "Но я снова не отвечаю. Я инкогнито — инкогнида\n",
    "Но если б мне платили, милый, каждый раз, когда взгляд твой дымный\n",
    "Мне мерещится где-то мимо, каждый раз, когда снишься ты мне\n",
    "\n",
    "Если б мне платили каждый раз\n",
    "Каждый раз, когда я думаю о тебе\n",
    "Я бы бомжевала возле трасс\n",
    "Я бы стала самой бедной из людей\n",
    "Если б мне платили каждый раз\n",
    "Каждый раз, когда я думаю о тебе\n",
    "Я бы бомжевала возле трасс\n",
    "Я бы стала самой бедной из людей\n",
    "\n",
    "Старая конфорка плещет нам, на двоих одна заварка\n",
    "За окном темно, в окне трещина, лампочка-луна над парком\n",
    "Я опять кручу на пальце прядь, пахну, как мамины духи\n",
    "Ты хочешь меня снять-снять-снять, а я хочу писать стихи-стихи\n",
    "\n",
    "Уезжай, чай не допивай. Снег или дождь там — уходи\n",
    "Пусть хоть всего переморосит, пусть хоть торнадо унесёт вдаль\n",
    "Может, есть ещё твой трамвай? Может, нет? Всё равно иди\n",
    "Там промозглый седой февраль — он теперь, как и ты, один\n",
    "И тебя не жаль, не жаль, не жаль. Хоть слоу-мо в дыме сигарет\n",
    "Даже в миноре и под рояль, даже под грустную скрипку - нет\n",
    "Если б ты не любил стихи, превратилась бы в звонкий ямб\n",
    "Если б был наркотою ты, фитоняшкой бы стала я\n",
    "\n",
    "Если б мне платили каждый раз\n",
    "Каждый раз, когда я думаю о тебе\n",
    "Я бы бомжевала возле трасс\n",
    "Я бы стала самой бедной из людей\n",
    "Если б мне платили каждый раз\n",
    "Каждый раз, когда я думаю о тебе\n",
    "Я бы бомжевала возле трасс\n",
    "Я бы стала самой бедной из людей'''"
   ]
  },
  {
   "cell_type": "code",
   "execution_count": 20,
   "metadata": {
    "collapsed": true
   },
   "outputs": [],
   "source": [
    "#решение"
   ]
  },
  {
   "cell_type": "markdown",
   "metadata": {},
   "source": [
    "### Задача 7 Последовательные строки (3 балла)\n",
    "На вход подается список, состоящий из строк, и целое число $k$. Ваша цель вывести на экран первую встретившуюся самую длинную строку, состоящую из k последовательных элементов списка. Если $k<0$, список пуст или $k >$ длины списка вывести пустую строку.\n",
    "<br>**Входные данные**:list = [\"cat\",\"city\",\"exception\",\"dog\",\"exception\",\"kick\"], $k = 2$. **Выходные данные**: \"cityexception\""
   ]
  },
  {
   "cell_type": "code",
   "execution_count": 5,
   "metadata": {},
   "outputs": [
    {
     "name": "stdout",
     "output_type": "stream",
     "text": [
      "cityexception\n"
     ]
    }
   ],
   "source": [
    "#решение\n",
    "s=[\"cat\",\"city\",\"exception\",\"dog\",\"exception\",\"kick\"]\n",
    "m=int(0)\n",
    "a=[]\n",
    "a.append(\"df\")\n",
    "a.append(\"df\")\n",
    "i=int()\n",
    "for i in range(0,len(s)-1):\n",
    "    if (len(s[i])+len(s[i+1]))>m:\n",
    "        m=len(s[i])+len(s[i+1])\n",
    "        a=s[i]+s[i+1]\n",
    "print(a)\n",
    "\n",
    "    \n",
    "    "
   ]
  },
  {
   "cell_type": "markdown",
   "metadata": {},
   "source": [
    "### Задача 8 Смайлики (1 балла)\n",
    "На вход подается список из смайликов. Правильные смайлики имеют следующую структуру: глаза это \":\" или \";\", нос - \"\", \"-\" или \"~\", улыбка - \")\" или \"D\". Ваша цель посчитать количество таких смайликов в списке. Пример правильных смайликов: \":-D\", \":)\", \";-D\" ,\":~D\". \n",
    "    <br> **Входные данные**: [':)', ';(', ';}', ':-D']. **Выходные данные**: 2"
   ]
  },
  {
   "cell_type": "code",
   "execution_count": 11,
   "metadata": {},
   "outputs": [
    {
     "name": "stdout",
     "output_type": "stream",
     "text": [
      "2\n"
     ]
    }
   ],
   "source": [
    "#решение\n",
    "s=[':)', ';(', ';}', ':-D']\n",
    "i=int()\n",
    "m=int()\n",
    "for i in range(0,len(s)):\n",
    "    if s[i]==\":-D\" or s[i]==\":)\"or s[i]==\";-D\"or s[i]==\":~D\":\n",
    "        m=m+1\n",
    "print(m)"
   ]
  },
  {
   "cell_type": "markdown",
   "metadata": {},
   "source": [
    "### Задача 9 \"+1\" (5 баллов)\n",
    "На вход подается строка. Если строка оканчивается на какое-то число, то ваша цель увеличить число на 1. В противном случае дописать 1 в конец строки.\n",
    "<br>**Входные данные**: python. **Выходные данные**: python1.\n",
    "<br>**Входные данные**: python23. **Выходные данные**: python24.\n",
    "<br>**Входные данные**: python099. **Выходные данные**: python100.\n",
    "<br>**Входные данные**: python0042. **Выходные данные**: python0043."
   ]
  },
  {
   "cell_type": "code",
   "execution_count": 32,
   "metadata": {},
   "outputs": [
    {
     "ename": "SyntaxError",
     "evalue": "invalid syntax (<ipython-input-32-91cf43dd202d>, line 9)",
     "output_type": "error",
     "traceback": [
      "\u001b[1;36m  File \u001b[1;32m\"<ipython-input-32-91cf43dd202d>\"\u001b[1;36m, line \u001b[1;32m9\u001b[0m\n\u001b[1;33m    n=n+1\u001b[0m\n\u001b[1;37m    ^\u001b[0m\n\u001b[1;31mSyntaxError\u001b[0m\u001b[1;31m:\u001b[0m invalid syntax\n"
     ]
    }
   ],
   "source": [
    "#решение\n",
    "s=str(\"python\")\n",
    "m=int(0)\n",
    "n=int(0)\n",
    "i=int(0)\n",
    "for i in range(0,len(s)):\n",
    "    if s[len(s)-1]==\"0\" or s[len(s)-1]==\"1\"or s[len(s)-1]==\"2\"or s[len(s)-1]==\"3\"or s[len(s)-1]==\"4\"or s[len(s)-1]==\"5\"or s[len(s)-1]==\"6\"or s[len(s)-1]==\"7\"or s[len(s)-1]==\"8\"or s[len(s)-1]==\"9\":\n",
    "        m=m*10+(int(s[i])\n",
    "        n=n+1\n",
    "     else:           \n",
    "         a=a+s[i]\n",
    "m=m+1\n",
    "if n>0:\n",
    "    a=a+str(m%n)\n",
    "else:\n",
    "    a=a+\"1\"\n",
    "print(a)\n",
    "    \n",
    "    "
   ]
  },
  {
   "cell_type": "markdown",
   "metadata": {},
   "source": [
    "### Задача 10 \"Волна\" (1 балл)\n",
    "На вход подается строка. Ваша цель вывести список, в котором буквы в элементах этого списка будет напоминать волну на стадионе, то есть на i позиции буква будет в верхнем регистре.\n",
    "<br>**Входные данные**: \"python\" **Выходные данные**: [\"Python\",\"pYthon\",\"pyThon\",\"pytHon\",\"pythOn\",\"pythoN\"]\n",
    "*Подсказка*: прочитайте про методы upper() и lower() для строк."
   ]
  },
  {
   "cell_type": "code",
   "execution_count": 2,
   "metadata": {},
   "outputs": [
    {
     "ename": "TypeError",
     "evalue": "can only concatenate list (not \"str\") to list",
     "output_type": "error",
     "traceback": [
      "\u001b[1;31m---------------------------------------------------------------------------\u001b[0m",
      "\u001b[1;31mTypeError\u001b[0m                                 Traceback (most recent call last)",
      "\u001b[1;32m<ipython-input-2-982667e9e76c>\u001b[0m in \u001b[0;36m<module>\u001b[1;34m()\u001b[0m\n\u001b[0;32m      9\u001b[0m         \u001b[1;32melse\u001b[0m\u001b[1;33m:\u001b[0m\u001b[1;33m\u001b[0m\u001b[0m\n\u001b[0;32m     10\u001b[0m             \u001b[0mb\u001b[0m\u001b[1;33m=\u001b[0m\u001b[0ms\u001b[0m\u001b[1;33m[\u001b[0m\u001b[0mi\u001b[0m\u001b[1;33m]\u001b[0m\u001b[1;33m\u001b[0m\u001b[0m\n\u001b[1;32m---> 11\u001b[1;33m             \u001b[0ma\u001b[0m\u001b[1;33m=\u001b[0m\u001b[0ma\u001b[0m\u001b[1;33m+\u001b[0m\u001b[0mb\u001b[0m\u001b[1;33m.\u001b[0m\u001b[0mupper\u001b[0m\u001b[1;33m(\u001b[0m\u001b[1;33m)\u001b[0m\u001b[1;33m\u001b[0m\u001b[0m\n\u001b[0m\u001b[0;32m     12\u001b[0m \u001b[0mprint\u001b[0m\u001b[1;33m(\u001b[0m\u001b[0ms\u001b[0m\u001b[1;33m)\u001b[0m\u001b[1;33m\u001b[0m\u001b[0m\n",
      "\u001b[1;31mTypeError\u001b[0m: can only concatenate list (not \"str\") to list"
     ]
    }
   ],
   "source": [
    "#решение\n",
    "s=str(\"ghj\")\n",
    "s.split()\n",
    "a=[]\n",
    "for i in range(0,len(s)):\n",
    "    for j in range(0,len(s)):\n",
    "        if s[i]!=s[j]:\n",
    "            a=a+s[j]\n",
    "        else:\n",
    "            b=s[i]\n",
    "            a=a+b.upper()\n",
    "print(s)"
   ]
  },
  {
   "cell_type": "code",
   "execution_count": 23,
   "metadata": {},
   "outputs": [
    {
     "ename": "SyntaxError",
     "evalue": "invalid syntax (<ipython-input-23-320f2f305e00>, line 8)",
     "output_type": "error",
     "traceback": [
      "\u001b[1;36m  File \u001b[1;32m\"<ipython-input-23-320f2f305e00>\"\u001b[1;36m, line \u001b[1;32m8\u001b[0m\n\u001b[1;33m    n=n+1\u001b[0m\n\u001b[1;37m    ^\u001b[0m\n\u001b[1;31mSyntaxError\u001b[0m\u001b[1;31m:\u001b[0m invalid syntax\n"
     ]
    }
   ],
   "source": []
  },
  {
   "cell_type": "code",
   "execution_count": null,
   "metadata": {},
   "outputs": [],
   "source": []
  }
 ],
 "metadata": {
  "kernelspec": {
   "display_name": "Python 3",
   "language": "python",
   "name": "python3"
  },
  "language_info": {
   "codemirror_mode": {
    "name": "ipython",
    "version": 3
   },
   "file_extension": ".py",
   "mimetype": "text/x-python",
   "name": "python",
   "nbconvert_exporter": "python",
   "pygments_lexer": "ipython3",
   "version": "3.7.0"
  }
 },
 "nbformat": 4,
 "nbformat_minor": 2
}
